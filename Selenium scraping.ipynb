{
 "cells": [
  {
   "cell_type": "code",
   "execution_count": 15,
   "id": "09d87c79",
   "metadata": {},
   "outputs": [
    {
     "name": "stdout",
     "output_type": "stream",
     "text": [
      "Requirement already satisfied: selenium in /Users/christakoeyvoets/.pyenv/versions/3.8.10/lib/python3.8/site-packages (3.141.0)\n",
      "Requirement already satisfied: urllib3 in /Users/christakoeyvoets/.pyenv/versions/3.8.10/lib/python3.8/site-packages (from selenium) (1.26.5)\n",
      "\u001b[33mWARNING: You are using pip version 21.1.1; however, version 21.2.2 is available.\n",
      "You should consider upgrading via the '/Users/christakoeyvoets/.pyenv/versions/3.8.10/bin/python -m pip install --upgrade pip' command.\u001b[0m\n",
      "Note: you may need to restart the kernel to use updated packages.\n"
     ]
    }
   ],
   "source": [
    "#pip install selenium"
   ]
  },
  {
   "cell_type": "code",
   "execution_count": 16,
   "id": "d5002d79",
   "metadata": {},
   "outputs": [],
   "source": [
    "import selenium"
   ]
  },
  {
   "cell_type": "code",
   "execution_count": 17,
   "id": "540815ec",
   "metadata": {},
   "outputs": [],
   "source": [
    "from selenium import webdriver\n",
    "from selenium.webdriver.common.keys import Keys\n",
    "import pandas as pd"
   ]
  },
  {
   "cell_type": "code",
   "execution_count": 20,
   "id": "42c2800f",
   "metadata": {},
   "outputs": [
    {
     "ename": "WebDriverException",
     "evalue": "Message: 'chromedriver' executable needs to be in PATH. Please see https://sites.google.com/a/chromium.org/chromedriver/home\n",
     "output_type": "error",
     "traceback": [
      "\u001b[0;31m---------------------------------------------------------------------------\u001b[0m",
      "\u001b[0;31mFileNotFoundError\u001b[0m                         Traceback (most recent call last)",
      "\u001b[0;32m~/.pyenv/versions/3.8.10/lib/python3.8/site-packages/selenium/webdriver/common/service.py\u001b[0m in \u001b[0;36mstart\u001b[0;34m(self)\u001b[0m\n\u001b[1;32m     71\u001b[0m             \u001b[0mcmd\u001b[0m\u001b[0;34m.\u001b[0m\u001b[0mextend\u001b[0m\u001b[0;34m(\u001b[0m\u001b[0mself\u001b[0m\u001b[0;34m.\u001b[0m\u001b[0mcommand_line_args\u001b[0m\u001b[0;34m(\u001b[0m\u001b[0;34m)\u001b[0m\u001b[0;34m)\u001b[0m\u001b[0;34m\u001b[0m\u001b[0;34m\u001b[0m\u001b[0m\n\u001b[0;32m---> 72\u001b[0;31m             self.process = subprocess.Popen(cmd, env=self.env,\n\u001b[0m\u001b[1;32m     73\u001b[0m                                             \u001b[0mclose_fds\u001b[0m\u001b[0;34m=\u001b[0m\u001b[0mplatform\u001b[0m\u001b[0;34m.\u001b[0m\u001b[0msystem\u001b[0m\u001b[0;34m(\u001b[0m\u001b[0;34m)\u001b[0m \u001b[0;34m!=\u001b[0m \u001b[0;34m'Windows'\u001b[0m\u001b[0;34m,\u001b[0m\u001b[0;34m\u001b[0m\u001b[0;34m\u001b[0m\u001b[0m\n",
      "\u001b[0;32m~/.pyenv/versions/3.8.10/lib/python3.8/subprocess.py\u001b[0m in \u001b[0;36m__init__\u001b[0;34m(self, args, bufsize, executable, stdin, stdout, stderr, preexec_fn, close_fds, shell, cwd, env, universal_newlines, startupinfo, creationflags, restore_signals, start_new_session, pass_fds, encoding, errors, text)\u001b[0m\n\u001b[1;32m    857\u001b[0m \u001b[0;34m\u001b[0m\u001b[0m\n\u001b[0;32m--> 858\u001b[0;31m             self._execute_child(args, executable, preexec_fn, close_fds,\n\u001b[0m\u001b[1;32m    859\u001b[0m                                 \u001b[0mpass_fds\u001b[0m\u001b[0;34m,\u001b[0m \u001b[0mcwd\u001b[0m\u001b[0;34m,\u001b[0m \u001b[0menv\u001b[0m\u001b[0;34m,\u001b[0m\u001b[0;34m\u001b[0m\u001b[0;34m\u001b[0m\u001b[0m\n",
      "\u001b[0;32m~/.pyenv/versions/3.8.10/lib/python3.8/subprocess.py\u001b[0m in \u001b[0;36m_execute_child\u001b[0;34m(self, args, executable, preexec_fn, close_fds, pass_fds, cwd, env, startupinfo, creationflags, shell, p2cread, p2cwrite, c2pread, c2pwrite, errread, errwrite, restore_signals, start_new_session)\u001b[0m\n\u001b[1;32m   1703\u001b[0m                         \u001b[0merr_msg\u001b[0m \u001b[0;34m=\u001b[0m \u001b[0mos\u001b[0m\u001b[0;34m.\u001b[0m\u001b[0mstrerror\u001b[0m\u001b[0;34m(\u001b[0m\u001b[0merrno_num\u001b[0m\u001b[0;34m)\u001b[0m\u001b[0;34m\u001b[0m\u001b[0;34m\u001b[0m\u001b[0m\n\u001b[0;32m-> 1704\u001b[0;31m                     \u001b[0;32mraise\u001b[0m \u001b[0mchild_exception_type\u001b[0m\u001b[0;34m(\u001b[0m\u001b[0merrno_num\u001b[0m\u001b[0;34m,\u001b[0m \u001b[0merr_msg\u001b[0m\u001b[0;34m,\u001b[0m \u001b[0merr_filename\u001b[0m\u001b[0;34m)\u001b[0m\u001b[0;34m\u001b[0m\u001b[0;34m\u001b[0m\u001b[0m\n\u001b[0m\u001b[1;32m   1705\u001b[0m                 \u001b[0;32mraise\u001b[0m \u001b[0mchild_exception_type\u001b[0m\u001b[0;34m(\u001b[0m\u001b[0merr_msg\u001b[0m\u001b[0;34m)\u001b[0m\u001b[0;34m\u001b[0m\u001b[0;34m\u001b[0m\u001b[0m\n",
      "\u001b[0;31mFileNotFoundError\u001b[0m: [Errno 2] No such file or directory: 'chromedriver'",
      "\nDuring handling of the above exception, another exception occurred:\n",
      "\u001b[0;31mWebDriverException\u001b[0m                        Traceback (most recent call last)",
      "\u001b[0;32m<ipython-input-20-771a6b50234d>\u001b[0m in \u001b[0;36m<module>\u001b[0;34m\u001b[0m\n\u001b[1;32m      3\u001b[0m \u001b[0mchrome_options\u001b[0m \u001b[0;34m=\u001b[0m \u001b[0mOptions\u001b[0m\u001b[0;34m(\u001b[0m\u001b[0;34m)\u001b[0m\u001b[0;34m\u001b[0m\u001b[0;34m\u001b[0m\u001b[0m\n\u001b[1;32m      4\u001b[0m \u001b[0mchrome_options\u001b[0m\u001b[0;34m.\u001b[0m\u001b[0madd_argument\u001b[0m\u001b[0;34m(\u001b[0m\u001b[0;34m\"--headless\"\u001b[0m\u001b[0;34m)\u001b[0m\u001b[0;34m\u001b[0m\u001b[0;34m\u001b[0m\u001b[0m\n\u001b[0;32m----> 5\u001b[0;31m \u001b[0mdriver\u001b[0m \u001b[0;34m=\u001b[0m \u001b[0mwebdriver\u001b[0m\u001b[0;34m.\u001b[0m\u001b[0mChrome\u001b[0m\u001b[0;34m(\u001b[0m\u001b[0moptions\u001b[0m\u001b[0;34m=\u001b[0m\u001b[0mchrome_options\u001b[0m\u001b[0;34m)\u001b[0m\u001b[0;34m\u001b[0m\u001b[0;34m\u001b[0m\u001b[0m\n\u001b[0m",
      "\u001b[0;32m~/.pyenv/versions/3.8.10/lib/python3.8/site-packages/selenium/webdriver/chrome/webdriver.py\u001b[0m in \u001b[0;36m__init__\u001b[0;34m(self, executable_path, port, options, service_args, desired_capabilities, service_log_path, chrome_options, keep_alive)\u001b[0m\n\u001b[1;32m     71\u001b[0m             \u001b[0mservice_args\u001b[0m\u001b[0;34m=\u001b[0m\u001b[0mservice_args\u001b[0m\u001b[0;34m,\u001b[0m\u001b[0;34m\u001b[0m\u001b[0;34m\u001b[0m\u001b[0m\n\u001b[1;32m     72\u001b[0m             log_path=service_log_path)\n\u001b[0;32m---> 73\u001b[0;31m         \u001b[0mself\u001b[0m\u001b[0;34m.\u001b[0m\u001b[0mservice\u001b[0m\u001b[0;34m.\u001b[0m\u001b[0mstart\u001b[0m\u001b[0;34m(\u001b[0m\u001b[0;34m)\u001b[0m\u001b[0;34m\u001b[0m\u001b[0;34m\u001b[0m\u001b[0m\n\u001b[0m\u001b[1;32m     74\u001b[0m \u001b[0;34m\u001b[0m\u001b[0m\n\u001b[1;32m     75\u001b[0m         \u001b[0;32mtry\u001b[0m\u001b[0;34m:\u001b[0m\u001b[0;34m\u001b[0m\u001b[0;34m\u001b[0m\u001b[0m\n",
      "\u001b[0;32m~/.pyenv/versions/3.8.10/lib/python3.8/site-packages/selenium/webdriver/common/service.py\u001b[0m in \u001b[0;36mstart\u001b[0;34m(self)\u001b[0m\n\u001b[1;32m     79\u001b[0m         \u001b[0;32mexcept\u001b[0m \u001b[0mOSError\u001b[0m \u001b[0;32mas\u001b[0m \u001b[0merr\u001b[0m\u001b[0;34m:\u001b[0m\u001b[0;34m\u001b[0m\u001b[0;34m\u001b[0m\u001b[0m\n\u001b[1;32m     80\u001b[0m             \u001b[0;32mif\u001b[0m \u001b[0merr\u001b[0m\u001b[0;34m.\u001b[0m\u001b[0merrno\u001b[0m \u001b[0;34m==\u001b[0m \u001b[0merrno\u001b[0m\u001b[0;34m.\u001b[0m\u001b[0mENOENT\u001b[0m\u001b[0;34m:\u001b[0m\u001b[0;34m\u001b[0m\u001b[0;34m\u001b[0m\u001b[0m\n\u001b[0;32m---> 81\u001b[0;31m                 raise WebDriverException(\n\u001b[0m\u001b[1;32m     82\u001b[0m                     \"'%s' executable needs to be in PATH. %s\" % (\n\u001b[1;32m     83\u001b[0m                         os.path.basename(self.path), self.start_error_message)\n",
      "\u001b[0;31mWebDriverException\u001b[0m: Message: 'chromedriver' executable needs to be in PATH. Please see https://sites.google.com/a/chromium.org/chromedriver/home\n"
     ]
    }
   ],
   "source": [
    "from selenium import webdriver\n",
    "from selenium.webdriver.chrome.options import Options\n",
    "chrome_options = Options()\n",
    "chrome_options.add_argument(\"--headless\")\n",
    "driver = webdriver.Chrome(options=chrome_options)"
   ]
  },
  {
   "cell_type": "code",
   "execution_count": 3,
   "id": "19429b11",
   "metadata": {},
   "outputs": [],
   "source": [
    "driver = webdriver.Chrome('/Users/christakoeyvoets/Downloads/chromedriver')"
   ]
  },
  {
   "cell_type": "code",
   "execution_count": 4,
   "id": "07f041f2",
   "metadata": {},
   "outputs": [],
   "source": [
    "from bs4 import BeautifulSoup\n",
    "import requests\n",
    "from urllib.parse import urlparse\n",
    "import json\n",
    "import pandas as pd\n",
    "from datetime import date\n",
    "import datetime as datetime"
   ]
  },
  {
   "cell_type": "code",
   "execution_count": 5,
   "id": "155170d3",
   "metadata": {},
   "outputs": [],
   "source": [
    "today = date.today() \n",
    "year = today.year\n",
    "day = today.day\n",
    "month = today.month"
   ]
  },
  {
   "cell_type": "code",
   "execution_count": 6,
   "id": "d88d20c4",
   "metadata": {},
   "outputs": [],
   "source": [
    "tomorrow = date.today() + datetime.timedelta(days=1)\n",
    "yeartm = tomorrow.year\n",
    "daytm = tomorrow.day\n",
    "monthtm = tomorrow.month"
   ]
  },
  {
   "cell_type": "code",
   "execution_count": 7,
   "id": "9c4d1f66",
   "metadata": {},
   "outputs": [],
   "source": [
    "year = str(year)\n",
    "day = str(day)\n",
    "month = str(month)\n",
    "yeartm = str(yeartm)\n",
    "daytm = str(daytm)\n",
    "monthtm = str(monthtm)"
   ]
  },
  {
   "cell_type": "code",
   "execution_count": 8,
   "id": "900e44e9",
   "metadata": {},
   "outputs": [],
   "source": [
    "urltime = \"https://www.booking.com/searchresults.nl.html?aid=376373&label=Boekings-nl-Nmlwg4ZjCgLYTSLOHsJrjgS267724993818%3Apl%3Ata%3Ap1%3Ap22.563.000%3Aac%3Aap%3Aneg%3Afi%3Atikwd-65526620%3Alp9043480%3Ali%3Adec%3Adm%3Appccp%3DUmFuZG9tSVYkc2RlIyh9YfpWGnRw6lOGtdKYocc2a8Y&sid=552e2254bbf42007c1fa7f86a7c26c19&sb=1&sb_lp=1&src=index&src_elem=sb&error_url=https%3A%2F%2Fwww.booking.com%2Findex.nl.html%3Faid%3D376373%3Blabel%3DBoekings-nl-Nmlwg4ZjCgLYTSLOHsJrjgS267724993818%253Apl%253Ata%253Ap1%253Ap22.563.000%253Aac%253Aap%253Aneg%253Afi%253Atikwd-65526620%253Alp9043480%253Ali%253Adec%253Adm%253Appccp%253DUmFuZG9tSVYkc2RlIyh9YfpWGnRw6lOGtdKYocc2a8Y%3Bsid%3D552e2254bbf42007c1fa7f86a7c26c19%3Bsb_price_type%3Dtotal%26%3B&ss=Hamburg&is_ski_area=0&ssne=Hamburg&ssne_untouched=Hamburg&dest_id=-1785434&dest_type=city&checkin_year=\" + year + \"&checkin_month=\" + month + \"&checkin_monthday=\" + day + \"&checkout_year=\" + yeartm + \"&checkout_month=\" + monthtm + \"&checkout_monthday=\" + daytm + \"&group_adults=1&group_children=0&no_rooms=1&b_h4u_keep_filters=&from_sf=1\"\n"
   ]
  },
  {
   "cell_type": "code",
   "execution_count": 46,
   "id": "db77cc38",
   "metadata": {},
   "outputs": [],
   "source": [
    "driver.get(urltime)"
   ]
  },
  {
   "cell_type": "code",
   "execution_count": 47,
   "id": "e8367f5f",
   "metadata": {},
   "outputs": [],
   "source": [
    "html = driver.page_source\n",
    "soup = BeautifulSoup(html, 'html.parser')"
   ]
  },
  {
   "cell_type": "code",
   "execution_count": 70,
   "id": "085b05ee",
   "metadata": {},
   "outputs": [],
   "source": [
    "names = []\n",
    "prices = []"
   ]
  },
  {
   "cell_type": "code",
   "execution_count": 71,
   "id": "41e42ce9",
   "metadata": {},
   "outputs": [],
   "source": [
    "for item in soup.findAll('span', {'class': 'sr-hotel__name'}):\n",
    "        names.append(item.get_text(strip=True))"
   ]
  },
  {
   "cell_type": "code",
   "execution_count": 74,
   "id": "a2a5dfcf",
   "metadata": {},
   "outputs": [],
   "source": [
    "for item in soup.findAll('div', {'class':'bui-price-display__value prco-inline-block-maker-helper'}):\n",
    "    prices.append(item.get_text(strip=True))"
   ]
  },
  {
   "cell_type": "code",
   "execution_count": 77,
   "id": "21c6ce77",
   "metadata": {},
   "outputs": [
    {
     "name": "stdout",
     "output_type": "stream",
     "text": [
      "---\n",
      "Ruby Lotti Hotel Hamburg\n",
      "€ 101\n",
      "---\n",
      "ibis Hotel Hamburg Alster Centrum\n",
      "€ 85\n",
      "---\n",
      "Lindner Hotel Am Michel\n",
      "€ 131\n",
      "---\n",
      "prizeotel Hamburg-City\n",
      "€ 67\n",
      "---\n",
      "25hours Hotel HafenCity\n",
      "€ 159\n",
      "---\n",
      "Scandic Hamburg Emporio\n",
      "€ 119\n",
      "---\n",
      "Boutique 020 Hamburg City\n",
      "€ 89\n",
      "---\n",
      "IntercityHotel Hamburg Dammtor-Messe\n",
      "€ 109\n",
      "---\n",
      "Ibis Hamburg City\n",
      "€ 83\n",
      "---\n",
      "Hotel Baseler Hof\n",
      "€ 103\n",
      "---\n",
      "Crowne Plaza Hamburg City Centre, an IHG Hotel\n",
      "€ 109\n",
      "---\n",
      "Tortue Hamburg\n",
      "€ 195\n",
      "---\n",
      "Novotel Hamburg City Alster\n",
      "€ 109\n",
      "---\n",
      "a&o Hamburg Hauptbahnhof\n",
      "€ 14\n",
      "---\n",
      "Novotel Suites Hamburg City\n",
      "€ 99\n",
      "---\n",
      "Park Hotel am Berliner Tor\n",
      "€ 85\n",
      "---\n",
      "PIERDREI Hotel HafenCity Hamburg\n",
      "€ 125\n",
      "---\n",
      "NH Hamburg Altona\n",
      "€ 97\n",
      "---\n",
      "Leonardo Hotel Hamburg City Nord\n",
      "€ 79\n",
      "---\n",
      "Novum Hotel Ambassador\n",
      "€ 52\n",
      "---\n",
      "Leonardo Hotel Hamburg Elbbrücken\n",
      "€ 74\n",
      "---\n",
      "Novum Hotel Graf Moltke Hamburg\n",
      "€ 57\n",
      "---\n",
      "Best Western Plaza Hotel Hamburg\n",
      "€ 67\n",
      "---\n",
      "Park Hotel Hamburg Arena\n",
      "€ 69\n",
      "---\n",
      "Leonardo Hotel Hamburg Airport\n",
      "€ 74\n"
     ]
    }
   ],
   "source": [
    "for price, name in zip(prices, names):\n",
    "    print('---')\n",
    "    print(name)\n",
    "    print(price)"
   ]
  },
  {
   "cell_type": "code",
   "execution_count": 78,
   "id": "8900b38e",
   "metadata": {},
   "outputs": [
    {
     "name": "stdout",
     "output_type": "stream",
     "text": [
      "---\n",
      "{'Hotel': 'Ruby Lotti Hotel Hamburg', 'Price': '€\\xa0101'}\n",
      "---\n",
      "{'Hotel': 'ibis Hotel Hamburg Alster Centrum', 'Price': '€\\xa085'}\n",
      "---\n",
      "{'Hotel': 'Lindner Hotel Am Michel', 'Price': '€\\xa0131'}\n",
      "---\n",
      "{'Hotel': 'prizeotel Hamburg-City', 'Price': '€\\xa067'}\n",
      "---\n",
      "{'Hotel': '25hours Hotel HafenCity', 'Price': '€\\xa0159'}\n",
      "---\n",
      "{'Hotel': 'Scandic Hamburg Emporio', 'Price': '€\\xa0119'}\n",
      "---\n",
      "{'Hotel': 'Boutique 020 Hamburg City', 'Price': '€\\xa089'}\n",
      "---\n",
      "{'Hotel': 'IntercityHotel Hamburg Dammtor-Messe', 'Price': '€\\xa0109'}\n",
      "---\n",
      "{'Hotel': 'Ibis Hamburg City', 'Price': '€\\xa083'}\n",
      "---\n",
      "{'Hotel': 'Hotel Baseler Hof', 'Price': '€\\xa0103'}\n",
      "---\n",
      "{'Hotel': 'Crowne Plaza Hamburg City Centre, an IHG Hotel', 'Price': '€\\xa0109'}\n",
      "---\n",
      "{'Hotel': 'Tortue Hamburg', 'Price': '€\\xa0195'}\n",
      "---\n",
      "{'Hotel': 'Novotel Hamburg City Alster', 'Price': '€\\xa0109'}\n",
      "---\n",
      "{'Hotel': 'a&o Hamburg Hauptbahnhof', 'Price': '€\\xa014'}\n",
      "---\n",
      "{'Hotel': 'Novotel Suites Hamburg City', 'Price': '€\\xa099'}\n",
      "---\n",
      "{'Hotel': 'Park Hotel am Berliner Tor', 'Price': '€\\xa085'}\n",
      "---\n",
      "{'Hotel': 'PIERDREI Hotel HafenCity Hamburg', 'Price': '€\\xa0125'}\n",
      "---\n",
      "{'Hotel': 'NH Hamburg Altona', 'Price': '€\\xa097'}\n",
      "---\n",
      "{'Hotel': 'Leonardo Hotel Hamburg City Nord', 'Price': '€\\xa079'}\n",
      "---\n",
      "{'Hotel': 'Novum Hotel Ambassador', 'Price': '€\\xa052'}\n",
      "---\n",
      "{'Hotel': 'Leonardo Hotel Hamburg Elbbrücken', 'Price': '€\\xa074'}\n",
      "---\n",
      "{'Hotel': 'Novum Hotel Graf Moltke Hamburg', 'Price': '€\\xa057'}\n",
      "---\n",
      "{'Hotel': 'Best Western Plaza Hotel Hamburg', 'Price': '€\\xa067'}\n",
      "---\n",
      "{'Hotel': 'Park Hotel Hamburg Arena', 'Price': '€\\xa069'}\n",
      "---\n",
      "{'Hotel': 'Leonardo Hotel Hamburg Airport', 'Price': '€\\xa074'}\n"
     ]
    }
   ],
   "source": [
    "rows = []\n",
    "\n",
    "for price, name in zip(prices, names):\n",
    "    row = {}\n",
    "    print('---')\n",
    "    #print(name.text)\n",
    "    #print(price.text)\n",
    "    row['Hotel'] = name\n",
    "    row['Price'] = price\n",
    "    print(row)\n",
    "    rows.append(row)"
   ]
  },
  {
   "cell_type": "code",
   "execution_count": 79,
   "id": "851cb4f4",
   "metadata": {},
   "outputs": [
    {
     "data": {
      "text/html": [
       "<div>\n",
       "<style scoped>\n",
       "    .dataframe tbody tr th:only-of-type {\n",
       "        vertical-align: middle;\n",
       "    }\n",
       "\n",
       "    .dataframe tbody tr th {\n",
       "        vertical-align: top;\n",
       "    }\n",
       "\n",
       "    .dataframe thead th {\n",
       "        text-align: right;\n",
       "    }\n",
       "</style>\n",
       "<table border=\"1\" class=\"dataframe\">\n",
       "  <thead>\n",
       "    <tr style=\"text-align: right;\">\n",
       "      <th></th>\n",
       "      <th>Hotel</th>\n",
       "      <th>Price</th>\n",
       "    </tr>\n",
       "  </thead>\n",
       "  <tbody>\n",
       "    <tr>\n",
       "      <th>0</th>\n",
       "      <td>Ruby Lotti Hotel Hamburg</td>\n",
       "      <td>€ 101</td>\n",
       "    </tr>\n",
       "    <tr>\n",
       "      <th>1</th>\n",
       "      <td>ibis Hotel Hamburg Alster Centrum</td>\n",
       "      <td>€ 85</td>\n",
       "    </tr>\n",
       "    <tr>\n",
       "      <th>2</th>\n",
       "      <td>Lindner Hotel Am Michel</td>\n",
       "      <td>€ 131</td>\n",
       "    </tr>\n",
       "    <tr>\n",
       "      <th>3</th>\n",
       "      <td>prizeotel Hamburg-City</td>\n",
       "      <td>€ 67</td>\n",
       "    </tr>\n",
       "    <tr>\n",
       "      <th>4</th>\n",
       "      <td>25hours Hotel HafenCity</td>\n",
       "      <td>€ 159</td>\n",
       "    </tr>\n",
       "    <tr>\n",
       "      <th>5</th>\n",
       "      <td>Scandic Hamburg Emporio</td>\n",
       "      <td>€ 119</td>\n",
       "    </tr>\n",
       "    <tr>\n",
       "      <th>6</th>\n",
       "      <td>Boutique 020 Hamburg City</td>\n",
       "      <td>€ 89</td>\n",
       "    </tr>\n",
       "    <tr>\n",
       "      <th>7</th>\n",
       "      <td>IntercityHotel Hamburg Dammtor-Messe</td>\n",
       "      <td>€ 109</td>\n",
       "    </tr>\n",
       "    <tr>\n",
       "      <th>8</th>\n",
       "      <td>Ibis Hamburg City</td>\n",
       "      <td>€ 83</td>\n",
       "    </tr>\n",
       "    <tr>\n",
       "      <th>9</th>\n",
       "      <td>Hotel Baseler Hof</td>\n",
       "      <td>€ 103</td>\n",
       "    </tr>\n",
       "    <tr>\n",
       "      <th>10</th>\n",
       "      <td>Crowne Plaza Hamburg City Centre, an IHG Hotel</td>\n",
       "      <td>€ 109</td>\n",
       "    </tr>\n",
       "    <tr>\n",
       "      <th>11</th>\n",
       "      <td>Tortue Hamburg</td>\n",
       "      <td>€ 195</td>\n",
       "    </tr>\n",
       "    <tr>\n",
       "      <th>12</th>\n",
       "      <td>Novotel Hamburg City Alster</td>\n",
       "      <td>€ 109</td>\n",
       "    </tr>\n",
       "    <tr>\n",
       "      <th>13</th>\n",
       "      <td>a&amp;o Hamburg Hauptbahnhof</td>\n",
       "      <td>€ 14</td>\n",
       "    </tr>\n",
       "    <tr>\n",
       "      <th>14</th>\n",
       "      <td>Novotel Suites Hamburg City</td>\n",
       "      <td>€ 99</td>\n",
       "    </tr>\n",
       "    <tr>\n",
       "      <th>15</th>\n",
       "      <td>Park Hotel am Berliner Tor</td>\n",
       "      <td>€ 85</td>\n",
       "    </tr>\n",
       "    <tr>\n",
       "      <th>16</th>\n",
       "      <td>PIERDREI Hotel HafenCity Hamburg</td>\n",
       "      <td>€ 125</td>\n",
       "    </tr>\n",
       "    <tr>\n",
       "      <th>17</th>\n",
       "      <td>NH Hamburg Altona</td>\n",
       "      <td>€ 97</td>\n",
       "    </tr>\n",
       "    <tr>\n",
       "      <th>18</th>\n",
       "      <td>Leonardo Hotel Hamburg City Nord</td>\n",
       "      <td>€ 79</td>\n",
       "    </tr>\n",
       "    <tr>\n",
       "      <th>19</th>\n",
       "      <td>Novum Hotel Ambassador</td>\n",
       "      <td>€ 52</td>\n",
       "    </tr>\n",
       "    <tr>\n",
       "      <th>20</th>\n",
       "      <td>Leonardo Hotel Hamburg Elbbrücken</td>\n",
       "      <td>€ 74</td>\n",
       "    </tr>\n",
       "    <tr>\n",
       "      <th>21</th>\n",
       "      <td>Novum Hotel Graf Moltke Hamburg</td>\n",
       "      <td>€ 57</td>\n",
       "    </tr>\n",
       "    <tr>\n",
       "      <th>22</th>\n",
       "      <td>Best Western Plaza Hotel Hamburg</td>\n",
       "      <td>€ 67</td>\n",
       "    </tr>\n",
       "    <tr>\n",
       "      <th>23</th>\n",
       "      <td>Park Hotel Hamburg Arena</td>\n",
       "      <td>€ 69</td>\n",
       "    </tr>\n",
       "    <tr>\n",
       "      <th>24</th>\n",
       "      <td>Leonardo Hotel Hamburg Airport</td>\n",
       "      <td>€ 74</td>\n",
       "    </tr>\n",
       "  </tbody>\n",
       "</table>\n",
       "</div>"
      ],
      "text/plain": [
       "                                             Hotel  Price\n",
       "0                         Ruby Lotti Hotel Hamburg  € 101\n",
       "1                ibis Hotel Hamburg Alster Centrum   € 85\n",
       "2                          Lindner Hotel Am Michel  € 131\n",
       "3                           prizeotel Hamburg-City   € 67\n",
       "4                          25hours Hotel HafenCity  € 159\n",
       "5                          Scandic Hamburg Emporio  € 119\n",
       "6                        Boutique 020 Hamburg City   € 89\n",
       "7             IntercityHotel Hamburg Dammtor-Messe  € 109\n",
       "8                                Ibis Hamburg City   € 83\n",
       "9                                Hotel Baseler Hof  € 103\n",
       "10  Crowne Plaza Hamburg City Centre, an IHG Hotel  € 109\n",
       "11                                  Tortue Hamburg  € 195\n",
       "12                     Novotel Hamburg City Alster  € 109\n",
       "13                        a&o Hamburg Hauptbahnhof   € 14\n",
       "14                     Novotel Suites Hamburg City   € 99\n",
       "15                      Park Hotel am Berliner Tor   € 85\n",
       "16                PIERDREI Hotel HafenCity Hamburg  € 125\n",
       "17                               NH Hamburg Altona   € 97\n",
       "18                Leonardo Hotel Hamburg City Nord   € 79\n",
       "19                          Novum Hotel Ambassador   € 52\n",
       "20               Leonardo Hotel Hamburg Elbbrücken   € 74\n",
       "21                 Novum Hotel Graf Moltke Hamburg   € 57\n",
       "22                Best Western Plaza Hotel Hamburg   € 67\n",
       "23                        Park Hotel Hamburg Arena   € 69\n",
       "24                  Leonardo Hotel Hamburg Airport   € 74"
      ]
     },
     "execution_count": 79,
     "metadata": {},
     "output_type": "execute_result"
    }
   ],
   "source": [
    "df = pd.DataFrame(rows)\n",
    "df"
   ]
  },
  {
   "cell_type": "code",
   "execution_count": 81,
   "id": "28d67000",
   "metadata": {},
   "outputs": [],
   "source": [
    "df['Date']=today"
   ]
  },
  {
   "cell_type": "code",
   "execution_count": 85,
   "id": "f1abd7dd",
   "metadata": {},
   "outputs": [],
   "source": [
    "with open(\"hamburghotelprices.csv\", 'a') as f:\n",
    "    df.to_csv(f, header=f.tell()==0)"
   ]
  }
 ],
 "metadata": {
  "kernelspec": {
   "display_name": "Python 3",
   "language": "python",
   "name": "python3"
  },
  "language_info": {
   "codemirror_mode": {
    "name": "ipython",
    "version": 3
   },
   "file_extension": ".py",
   "mimetype": "text/x-python",
   "name": "python",
   "nbconvert_exporter": "python",
   "pygments_lexer": "ipython3",
   "version": "3.8.10"
  }
 },
 "nbformat": 4,
 "nbformat_minor": 5
}
