{
 "cells": [
  {
   "cell_type": "code",
   "execution_count": 2,
   "id": "dbcf8e82",
   "metadata": {},
   "outputs": [],
   "source": [
    "import pandas as pd"
   ]
  },
  {
   "cell_type": "code",
   "execution_count": 3,
   "id": "6be2b6b4",
   "metadata": {},
   "outputs": [],
   "source": [
    "df = pd.read_csv(\"hamburghotelprices.csv\")"
   ]
  },
  {
   "cell_type": "code",
   "execution_count": 4,
   "id": "d5fa4a79",
   "metadata": {},
   "outputs": [
    {
     "data": {
      "text/html": [
       "<div>\n",
       "<style scoped>\n",
       "    .dataframe tbody tr th:only-of-type {\n",
       "        vertical-align: middle;\n",
       "    }\n",
       "\n",
       "    .dataframe tbody tr th {\n",
       "        vertical-align: top;\n",
       "    }\n",
       "\n",
       "    .dataframe thead th {\n",
       "        text-align: right;\n",
       "    }\n",
       "</style>\n",
       "<table border=\"1\" class=\"dataframe\">\n",
       "  <thead>\n",
       "    <tr style=\"text-align: right;\">\n",
       "      <th></th>\n",
       "      <th>hotel</th>\n",
       "      <th>price</th>\n",
       "      <th>date</th>\n",
       "    </tr>\n",
       "  </thead>\n",
       "  <tbody>\n",
       "    <tr>\n",
       "      <th>0</th>\n",
       "      <td>NH Collection Hamburg City</td>\n",
       "      <td>€ 201</td>\n",
       "      <td>2021-07-31</td>\n",
       "    </tr>\n",
       "    <tr>\n",
       "      <th>1</th>\n",
       "      <td>ibis Hotel Hamburg Alster Centrum</td>\n",
       "      <td>€ 105</td>\n",
       "      <td>2021-07-31</td>\n",
       "    </tr>\n",
       "    <tr>\n",
       "      <th>2</th>\n",
       "      <td>Novotel Suites Hamburg City</td>\n",
       "      <td>€ 134</td>\n",
       "      <td>2021-07-31</td>\n",
       "    </tr>\n",
       "    <tr>\n",
       "      <th>3</th>\n",
       "      <td>Novotel Hamburg City Alster</td>\n",
       "      <td>€ 114</td>\n",
       "      <td>2021-07-31</td>\n",
       "    </tr>\n",
       "    <tr>\n",
       "      <th>4</th>\n",
       "      <td>prizeotel Hamburg-City</td>\n",
       "      <td>€ 74</td>\n",
       "      <td>2021-07-31</td>\n",
       "    </tr>\n",
       "    <tr>\n",
       "      <th>...</th>\n",
       "      <td>...</td>\n",
       "      <td>...</td>\n",
       "      <td>...</td>\n",
       "    </tr>\n",
       "    <tr>\n",
       "      <th>20</th>\n",
       "      <td>Leonardo Hotel Hamburg Stillhorn</td>\n",
       "      <td>€ 79</td>\n",
       "      <td>2021-08-03</td>\n",
       "    </tr>\n",
       "    <tr>\n",
       "      <th>21</th>\n",
       "      <td>NH Hamburg Mitte</td>\n",
       "      <td>€ 137</td>\n",
       "      <td>2021-08-03</td>\n",
       "    </tr>\n",
       "    <tr>\n",
       "      <th>22</th>\n",
       "      <td>Leonardo Hotel Hamburg City Nord</td>\n",
       "      <td>€ 94</td>\n",
       "      <td>2021-08-03</td>\n",
       "    </tr>\n",
       "    <tr>\n",
       "      <th>23</th>\n",
       "      <td>Select Hotel Hamburg Nord</td>\n",
       "      <td>€ 72</td>\n",
       "      <td>2021-08-03</td>\n",
       "    </tr>\n",
       "    <tr>\n",
       "      <th>24</th>\n",
       "      <td>NH Hamburg Altona</td>\n",
       "      <td>€ 129</td>\n",
       "      <td>2021-08-03</td>\n",
       "    </tr>\n",
       "  </tbody>\n",
       "</table>\n",
       "<p>100 rows × 3 columns</p>\n",
       "</div>"
      ],
      "text/plain": [
       "                                hotel  price        date\n",
       "0          NH Collection Hamburg City  € 201  2021-07-31\n",
       "1   ibis Hotel Hamburg Alster Centrum  € 105  2021-07-31\n",
       "2         Novotel Suites Hamburg City  € 134  2021-07-31\n",
       "3         Novotel Hamburg City Alster  € 114  2021-07-31\n",
       "4              prizeotel Hamburg-City   € 74  2021-07-31\n",
       "..                                ...    ...         ...\n",
       "20   Leonardo Hotel Hamburg Stillhorn   € 79  2021-08-03\n",
       "21                   NH Hamburg Mitte  € 137  2021-08-03\n",
       "22   Leonardo Hotel Hamburg City Nord   € 94  2021-08-03\n",
       "23          Select Hotel Hamburg Nord   € 72  2021-08-03\n",
       "24                  NH Hamburg Altona  € 129  2021-08-03\n",
       "\n",
       "[100 rows x 3 columns]"
      ]
     },
     "execution_count": 4,
     "metadata": {},
     "output_type": "execute_result"
    }
   ],
   "source": [
    "df"
   ]
  },
  {
   "cell_type": "code",
   "execution_count": 5,
   "id": "3580274b",
   "metadata": {},
   "outputs": [
    {
     "data": {
      "text/html": [
       "<div>\n",
       "<style scoped>\n",
       "    .dataframe tbody tr th:only-of-type {\n",
       "        vertical-align: middle;\n",
       "    }\n",
       "\n",
       "    .dataframe tbody tr th {\n",
       "        vertical-align: top;\n",
       "    }\n",
       "\n",
       "    .dataframe thead th {\n",
       "        text-align: right;\n",
       "    }\n",
       "</style>\n",
       "<table border=\"1\" class=\"dataframe\">\n",
       "  <thead>\n",
       "    <tr style=\"text-align: right;\">\n",
       "      <th></th>\n",
       "      <th>count</th>\n",
       "      <th>unique</th>\n",
       "      <th>top</th>\n",
       "      <th>freq</th>\n",
       "    </tr>\n",
       "    <tr>\n",
       "      <th>date</th>\n",
       "      <th></th>\n",
       "      <th></th>\n",
       "      <th></th>\n",
       "      <th></th>\n",
       "    </tr>\n",
       "  </thead>\n",
       "  <tbody>\n",
       "    <tr>\n",
       "      <th>2021-07-31</th>\n",
       "      <td>23</td>\n",
       "      <td>20</td>\n",
       "      <td>€ 99</td>\n",
       "      <td>2</td>\n",
       "    </tr>\n",
       "    <tr>\n",
       "      <th>2021-08-01</th>\n",
       "      <td>22</td>\n",
       "      <td>17</td>\n",
       "      <td>€ 74</td>\n",
       "      <td>3</td>\n",
       "    </tr>\n",
       "    <tr>\n",
       "      <th>2021-08-02</th>\n",
       "      <td>22</td>\n",
       "      <td>21</td>\n",
       "      <td>€ 94</td>\n",
       "      <td>2</td>\n",
       "    </tr>\n",
       "    <tr>\n",
       "      <th>2021-08-03</th>\n",
       "      <td>22</td>\n",
       "      <td>20</td>\n",
       "      <td>€ 67</td>\n",
       "      <td>2</td>\n",
       "    </tr>\n",
       "  </tbody>\n",
       "</table>\n",
       "</div>"
      ],
      "text/plain": [
       "           count unique   top freq\n",
       "date                              \n",
       "2021-07-31    23     20  € 99    2\n",
       "2021-08-01    22     17  € 74    3\n",
       "2021-08-02    22     21  € 94    2\n",
       "2021-08-03    22     20  € 67    2"
      ]
     },
     "execution_count": 5,
     "metadata": {},
     "output_type": "execute_result"
    }
   ],
   "source": [
    "df.groupby(by='date').price.describe()"
   ]
  },
  {
   "cell_type": "code",
   "execution_count": 6,
   "id": "ffe99dd9",
   "metadata": {},
   "outputs": [
    {
     "data": {
      "text/html": [
       "<div>\n",
       "<style scoped>\n",
       "    .dataframe tbody tr th:only-of-type {\n",
       "        vertical-align: middle;\n",
       "    }\n",
       "\n",
       "    .dataframe tbody tr th {\n",
       "        vertical-align: top;\n",
       "    }\n",
       "\n",
       "    .dataframe thead th {\n",
       "        text-align: right;\n",
       "    }\n",
       "</style>\n",
       "<table border=\"1\" class=\"dataframe\">\n",
       "  <thead>\n",
       "    <tr style=\"text-align: right;\">\n",
       "      <th></th>\n",
       "      <th>hotel</th>\n",
       "      <th>price</th>\n",
       "      <th>date</th>\n",
       "    </tr>\n",
       "  </thead>\n",
       "  <tbody>\n",
       "    <tr>\n",
       "      <th>0</th>\n",
       "      <td>NH Collection Hamburg City</td>\n",
       "      <td>201</td>\n",
       "      <td>2021-07-31</td>\n",
       "    </tr>\n",
       "    <tr>\n",
       "      <th>1</th>\n",
       "      <td>ibis Hotel Hamburg Alster Centrum</td>\n",
       "      <td>105</td>\n",
       "      <td>2021-07-31</td>\n",
       "    </tr>\n",
       "    <tr>\n",
       "      <th>2</th>\n",
       "      <td>Novotel Suites Hamburg City</td>\n",
       "      <td>134</td>\n",
       "      <td>2021-07-31</td>\n",
       "    </tr>\n",
       "    <tr>\n",
       "      <th>3</th>\n",
       "      <td>Novotel Hamburg City Alster</td>\n",
       "      <td>114</td>\n",
       "      <td>2021-07-31</td>\n",
       "    </tr>\n",
       "    <tr>\n",
       "      <th>4</th>\n",
       "      <td>prizeotel Hamburg-City</td>\n",
       "      <td>74</td>\n",
       "      <td>2021-07-31</td>\n",
       "    </tr>\n",
       "    <tr>\n",
       "      <th>...</th>\n",
       "      <td>...</td>\n",
       "      <td>...</td>\n",
       "      <td>...</td>\n",
       "    </tr>\n",
       "    <tr>\n",
       "      <th>20</th>\n",
       "      <td>Leonardo Hotel Hamburg Stillhorn</td>\n",
       "      <td>79</td>\n",
       "      <td>2021-08-03</td>\n",
       "    </tr>\n",
       "    <tr>\n",
       "      <th>21</th>\n",
       "      <td>NH Hamburg Mitte</td>\n",
       "      <td>137</td>\n",
       "      <td>2021-08-03</td>\n",
       "    </tr>\n",
       "    <tr>\n",
       "      <th>22</th>\n",
       "      <td>Leonardo Hotel Hamburg City Nord</td>\n",
       "      <td>94</td>\n",
       "      <td>2021-08-03</td>\n",
       "    </tr>\n",
       "    <tr>\n",
       "      <th>23</th>\n",
       "      <td>Select Hotel Hamburg Nord</td>\n",
       "      <td>72</td>\n",
       "      <td>2021-08-03</td>\n",
       "    </tr>\n",
       "    <tr>\n",
       "      <th>24</th>\n",
       "      <td>NH Hamburg Altona</td>\n",
       "      <td>129</td>\n",
       "      <td>2021-08-03</td>\n",
       "    </tr>\n",
       "  </tbody>\n",
       "</table>\n",
       "<p>100 rows × 3 columns</p>\n",
       "</div>"
      ],
      "text/plain": [
       "                                hotel price        date\n",
       "0          NH Collection Hamburg City   201  2021-07-31\n",
       "1   ibis Hotel Hamburg Alster Centrum   105  2021-07-31\n",
       "2         Novotel Suites Hamburg City   134  2021-07-31\n",
       "3         Novotel Hamburg City Alster   114  2021-07-31\n",
       "4              prizeotel Hamburg-City    74  2021-07-31\n",
       "..                                ...   ...         ...\n",
       "20   Leonardo Hotel Hamburg Stillhorn    79  2021-08-03\n",
       "21                   NH Hamburg Mitte   137  2021-08-03\n",
       "22   Leonardo Hotel Hamburg City Nord    94  2021-08-03\n",
       "23          Select Hotel Hamburg Nord    72  2021-08-03\n",
       "24                  NH Hamburg Altona   129  2021-08-03\n",
       "\n",
       "[100 rows x 3 columns]"
      ]
     },
     "execution_count": 6,
     "metadata": {},
     "output_type": "execute_result"
    }
   ],
   "source": [
    "df.price = df.price.str.replace('€','',regex=True)\n",
    "df"
   ]
  },
  {
   "cell_type": "code",
   "execution_count": 7,
   "id": "3bf4d614",
   "metadata": {},
   "outputs": [
    {
     "data": {
      "text/html": [
       "<div>\n",
       "<style scoped>\n",
       "    .dataframe tbody tr th:only-of-type {\n",
       "        vertical-align: middle;\n",
       "    }\n",
       "\n",
       "    .dataframe tbody tr th {\n",
       "        vertical-align: top;\n",
       "    }\n",
       "\n",
       "    .dataframe thead th {\n",
       "        text-align: right;\n",
       "    }\n",
       "</style>\n",
       "<table border=\"1\" class=\"dataframe\">\n",
       "  <thead>\n",
       "    <tr style=\"text-align: right;\">\n",
       "      <th></th>\n",
       "      <th>hotel</th>\n",
       "      <th>price</th>\n",
       "      <th>date</th>\n",
       "    </tr>\n",
       "  </thead>\n",
       "  <tbody>\n",
       "    <tr>\n",
       "      <th>0</th>\n",
       "      <td>NH Collection Hamburg City</td>\n",
       "      <td>201</td>\n",
       "      <td>2021-07-31</td>\n",
       "    </tr>\n",
       "    <tr>\n",
       "      <th>1</th>\n",
       "      <td>ibis Hotel Hamburg Alster Centrum</td>\n",
       "      <td>105</td>\n",
       "      <td>2021-07-31</td>\n",
       "    </tr>\n",
       "    <tr>\n",
       "      <th>2</th>\n",
       "      <td>Novotel Suites Hamburg City</td>\n",
       "      <td>134</td>\n",
       "      <td>2021-07-31</td>\n",
       "    </tr>\n",
       "    <tr>\n",
       "      <th>3</th>\n",
       "      <td>Novotel Hamburg City Alster</td>\n",
       "      <td>114</td>\n",
       "      <td>2021-07-31</td>\n",
       "    </tr>\n",
       "    <tr>\n",
       "      <th>4</th>\n",
       "      <td>prizeotel Hamburg-City</td>\n",
       "      <td>74</td>\n",
       "      <td>2021-07-31</td>\n",
       "    </tr>\n",
       "    <tr>\n",
       "      <th>...</th>\n",
       "      <td>...</td>\n",
       "      <td>...</td>\n",
       "      <td>...</td>\n",
       "    </tr>\n",
       "    <tr>\n",
       "      <th>20</th>\n",
       "      <td>Leonardo Hotel Hamburg Stillhorn</td>\n",
       "      <td>79</td>\n",
       "      <td>2021-08-03</td>\n",
       "    </tr>\n",
       "    <tr>\n",
       "      <th>21</th>\n",
       "      <td>NH Hamburg Mitte</td>\n",
       "      <td>137</td>\n",
       "      <td>2021-08-03</td>\n",
       "    </tr>\n",
       "    <tr>\n",
       "      <th>22</th>\n",
       "      <td>Leonardo Hotel Hamburg City Nord</td>\n",
       "      <td>94</td>\n",
       "      <td>2021-08-03</td>\n",
       "    </tr>\n",
       "    <tr>\n",
       "      <th>23</th>\n",
       "      <td>Select Hotel Hamburg Nord</td>\n",
       "      <td>72</td>\n",
       "      <td>2021-08-03</td>\n",
       "    </tr>\n",
       "    <tr>\n",
       "      <th>24</th>\n",
       "      <td>NH Hamburg Altona</td>\n",
       "      <td>129</td>\n",
       "      <td>2021-08-03</td>\n",
       "    </tr>\n",
       "  </tbody>\n",
       "</table>\n",
       "<p>100 rows × 3 columns</p>\n",
       "</div>"
      ],
      "text/plain": [
       "                                hotel price        date\n",
       "0          NH Collection Hamburg City   201  2021-07-31\n",
       "1   ibis Hotel Hamburg Alster Centrum   105  2021-07-31\n",
       "2         Novotel Suites Hamburg City   134  2021-07-31\n",
       "3         Novotel Hamburg City Alster   114  2021-07-31\n",
       "4              prizeotel Hamburg-City    74  2021-07-31\n",
       "..                                ...   ...         ...\n",
       "20   Leonardo Hotel Hamburg Stillhorn    79  2021-08-03\n",
       "21                   NH Hamburg Mitte   137  2021-08-03\n",
       "22   Leonardo Hotel Hamburg City Nord    94  2021-08-03\n",
       "23          Select Hotel Hamburg Nord    72  2021-08-03\n",
       "24                  NH Hamburg Altona   129  2021-08-03\n",
       "\n",
       "[100 rows x 3 columns]"
      ]
     },
     "execution_count": 7,
     "metadata": {},
     "output_type": "execute_result"
    }
   ],
   "source": [
    "df.price = df.price.str.replace(' ','',regex=True)\n",
    "df"
   ]
  },
  {
   "cell_type": "code",
   "execution_count": 8,
   "id": "880efee6",
   "metadata": {},
   "outputs": [],
   "source": [
    "df['price'] = df['price'].str.strip()"
   ]
  },
  {
   "cell_type": "code",
   "execution_count": 9,
   "id": "ae882457",
   "metadata": {},
   "outputs": [],
   "source": [
    "df['price'] = pd.to_numeric(df['price'])"
   ]
  },
  {
   "cell_type": "code",
   "execution_count": 10,
   "id": "451699b6",
   "metadata": {},
   "outputs": [
    {
     "data": {
      "text/plain": [
       "96.08988764044943"
      ]
     },
     "execution_count": 10,
     "metadata": {},
     "output_type": "execute_result"
    }
   ],
   "source": [
    "df.price.mean()"
   ]
  },
  {
   "cell_type": "code",
   "execution_count": 11,
   "id": "4de7ffe3",
   "metadata": {},
   "outputs": [
    {
     "data": {
      "text/plain": [
       "date\n",
       "2021-07-31    103.565217\n",
       "2021-08-01     86.318182\n",
       "2021-08-02     91.136364\n",
       "2021-08-03    103.000000\n",
       "Name: price, dtype: float64"
      ]
     },
     "execution_count": 11,
     "metadata": {},
     "output_type": "execute_result"
    }
   ],
   "source": [
    "df.groupby(by='date').price.mean()"
   ]
  },
  {
   "cell_type": "code",
   "execution_count": 20,
   "id": "3e409094",
   "metadata": {},
   "outputs": [
    {
     "data": {
      "text/plain": [
       "<AxesSubplot:xlabel='date'>"
      ]
     },
     "execution_count": 20,
     "metadata": {},
     "output_type": "execute_result"
    },
    {
     "data": {
      "image/png": "[encoded data removed]",
      "text/plain": [
       "<Figure size 432x288 with 1 Axes>"
      ]
     },
     "metadata": {
      "needs_background": "light"
     },
     "output_type": "display_data"
    }
   ],
   "source": [
    "df.groupby(by='date').price.mean().plot()"
   ]
  },
  {
   "cell_type": "code",
   "execution_count": null,
   "id": "7c79b628",
   "metadata": {},
   "outputs": [],
   "source": []
  }
 ],
 "metadata": {
  "kernelspec": {
   "display_name": "Python 3",
   "language": "python",
   "name": "python3"
  },
  "language_info": {
   "codemirror_mode": {
    "name": "ipython",
    "version": 3
   },
   "file_extension": ".py",
   "mimetype": "text/x-python",
   "name": "python",
   "nbconvert_exporter": "python",
   "pygments_lexer": "ipython3",
   "version": "3.8.10"
  }
 },
 "nbformat": 4,
 "nbformat_minor": 5
}
