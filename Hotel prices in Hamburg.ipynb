{
 "cells": [
  {
   "cell_type": "code",
   "execution_count": 69,
   "id": "1a002e62",
   "metadata": {},
   "outputs": [],
   "source": [
    "from bs4 import BeautifulSoup\n",
    "import requests\n",
    "from urllib.parse import urlparse\n",
    "import json\n",
    "import pandas as pd"
   ]
  },
  {
   "cell_type": "code",
   "execution_count": 2,
   "id": "7ab37762",
   "metadata": {},
   "outputs": [],
   "source": [
    "url = 'https://www.booking.com/searchresults.nl.html?label=gen173nr-1FCAEoggI46AdIM1gEaDuIAQGYARy4AQfIAQzYAQHoAQH4AQuIAgGoAgO4AuaDsocGwAIB0gIkN2UzYTE4ZmQtYTlhZC00NjY1LWFmMTctNzY1NDljMjkyMWJj2AIG4AIB&sid=e5cb477f66581f1895119ed9df6cb6b2&sb=1&sb_lp=1&src=index&src_elem=sb&error_url=https%3A%2F%2Fwww.booking.com%2Findex.nl.html%3Flabel%3Dgen173nr-1FCAEoggI46AdIM1gEaDuIAQGYARy4AQfIAQzYAQHoAQH4AQuIAgGoAgO4AuaDsocGwAIB0gIkN2UzYTE4ZmQtYTlhZC00NjY1LWFmMTctNzY1NDljMjkyMWJj2AIG4AIB%3Bsid%3De5cb477f66581f1895119ed9df6cb6b2%3Bsb_price_type%3Dtotal%26%3B&ss=Hamburg%2C+Hansestadt+Hamburg%2C+Duitsland&is_ski_area=&checkin_year=&checkin_month=&checkout_year=&checkout_month=&group_adults=2&group_children=0&no_rooms=1&b_h4u_keep_filters=&from_sf=1&search_pageview_id=100a7df32af6001a&ac_suggestion_list_length=5&ac_suggestion_theme_list_length=0&ac_position=0&ac_langcode=nl&ac_click_type=b&dest_id=-1785434&dest_type=city&iata=HAM&place_id_lat=53.549999&place_id_lon=10&search_pageview_id=100a7df32af6001a&search_selected=true&ss_raw=hamburg'"
   ]
  },
  {
   "cell_type": "markdown",
   "id": "0fa5d4ef",
   "metadata": {},
   "source": [
    "# Parsing it (Soma's way)"
   ]
  },
  {
   "cell_type": "code",
   "execution_count": 4,
   "id": "1ef44513",
   "metadata": {},
   "outputs": [],
   "source": [
    "response = requests.get(url)\n",
    "doc = BeautifulSoup(response.text, 'html.parser')"
   ]
  },
  {
   "cell_type": "code",
   "execution_count": 5,
   "id": "d190c90e",
   "metadata": {},
   "outputs": [],
   "source": [
    "#doc"
   ]
  },
  {
   "cell_type": "code",
   "execution_count": 62,
   "id": "f491c9ef",
   "metadata": {},
   "outputs": [],
   "source": [
    "names = doc.find_all('span', itemprop='name')"
   ]
  },
  {
   "cell_type": "code",
   "execution_count": 63,
   "id": "ced2856c",
   "metadata": {},
   "outputs": [],
   "source": [
    "prices = doc.find_all(class_='bui-price-display__value bui-f-color-constructive')"
   ]
  },
  {
   "cell_type": "code",
   "execution_count": 65,
   "id": "19d3c1a0",
   "metadata": {},
   "outputs": [
    {
     "name": "stdout",
     "output_type": "stream",
     "text": [
      "---\n",
      "\n",
      "Hampton By Hilton Hamburg City Centre\n",
      "\n",
      "€ 84,15\n",
      "---\n",
      "\n",
      "Barceló Hamburg\n",
      "\n",
      "€ 121,30\n",
      "---\n",
      "\n",
      "Radisson Blu Hotel, Hamburg\n",
      "\n",
      "€ 97,82\n",
      "---\n",
      "\n",
      "Hyperion Hotel Hamburg\n",
      "\n",
      "€ 99,20\n",
      "---\n",
      "\n",
      "Courtyard by Marriott Hamburg City\n",
      "\n",
      "€ 74,25\n",
      "---\n",
      "\n",
      "Crowne Plaza Hamburg City Centre, an IHG Hotel\n",
      "\n",
      "€ 89\n",
      "---\n",
      "\n",
      "Holiday Inn - Hamburg - Berliner Tor, an IHG Hotel\n",
      "\n",
      "€ 79\n",
      "---\n",
      "\n",
      "Scandic Hamburg Emporio\n",
      "\n",
      "€ 159\n",
      "---\n",
      "\n",
      "INNSiDE by Meliá Hamburg Hafen\n",
      "\n",
      "€ 79\n",
      "---\n",
      "\n",
      "Super 8 by Wyndham Hamburg Mitte\n",
      "\n",
      "€ 70\n"
     ]
    }
   ],
   "source": [
    "for price, name in zip(prices, names):\n",
    "    print('---')\n",
    "    print(name.text)\n",
    "    print(price.text)"
   ]
  },
  {
   "cell_type": "code",
   "execution_count": 73,
   "id": "316d3dca",
   "metadata": {},
   "outputs": [
    {
     "name": "stdout",
     "output_type": "stream",
     "text": [
      "---\n",
      "{'Hotel': '\\nHampton By Hilton Hamburg City Centre\\n', 'Price': '€\\xa084,15'}\n",
      "---\n",
      "{'Hotel': '\\nBarceló Hamburg\\n', 'Price': '€\\xa0121,30'}\n",
      "---\n",
      "{'Hotel': '\\nRadisson Blu Hotel, Hamburg\\n', 'Price': '€\\xa097,82'}\n",
      "---\n",
      "{'Hotel': '\\nHyperion Hotel Hamburg\\n', 'Price': '€\\xa099,20'}\n",
      "---\n",
      "{'Hotel': '\\nCourtyard by Marriott Hamburg City\\n', 'Price': '€\\xa074,25'}\n",
      "---\n",
      "{'Hotel': '\\nCrowne Plaza Hamburg City Centre, an IHG Hotel\\n', 'Price': '€\\xa089'}\n",
      "---\n",
      "{'Hotel': '\\nHoliday Inn - Hamburg - Berliner Tor, an IHG Hotel\\n', 'Price': '€\\xa079'}\n",
      "---\n",
      "{'Hotel': '\\nScandic Hamburg Emporio\\n', 'Price': '€\\xa0159'}\n",
      "---\n",
      "{'Hotel': '\\nINNSiDE by Meliá Hamburg Hafen\\n', 'Price': '€\\xa079'}\n",
      "---\n",
      "{'Hotel': '\\nSuper 8 by Wyndham Hamburg Mitte\\n', 'Price': '€\\xa070'}\n"
     ]
    }
   ],
   "source": [
    "rows = []\n",
    "\n",
    "for price, name in zip(prices, names):\n",
    "    row = {}\n",
    "    print('---')\n",
    "    #print(name.text)\n",
    "    #print(price.text)\n",
    "    row['Hotel'] = name.text\n",
    "    row['Price'] = price.text\n",
    "    print(row)\n",
    "    rows.append(row)"
   ]
  },
  {
   "cell_type": "code",
   "execution_count": 90,
   "id": "3e16f021",
   "metadata": {},
   "outputs": [
    {
     "data": {
      "text/html": [
       "<div>\n",
       "<style scoped>\n",
       "    .dataframe tbody tr th:only-of-type {\n",
       "        vertical-align: middle;\n",
       "    }\n",
       "\n",
       "    .dataframe tbody tr th {\n",
       "        vertical-align: top;\n",
       "    }\n",
       "\n",
       "    .dataframe thead th {\n",
       "        text-align: right;\n",
       "    }\n",
       "</style>\n",
       "<table border=\"1\" class=\"dataframe\">\n",
       "  <thead>\n",
       "    <tr style=\"text-align: right;\">\n",
       "      <th></th>\n",
       "      <th>Hotel</th>\n",
       "      <th>Price</th>\n",
       "    </tr>\n",
       "  </thead>\n",
       "  <tbody>\n",
       "    <tr>\n",
       "      <th>0</th>\n",
       "      <td>\\nHampton By Hilton Hamburg City Centre\\n</td>\n",
       "      <td>€ 84,15</td>\n",
       "    </tr>\n",
       "    <tr>\n",
       "      <th>1</th>\n",
       "      <td>\\nBarceló Hamburg\\n</td>\n",
       "      <td>€ 121,30</td>\n",
       "    </tr>\n",
       "    <tr>\n",
       "      <th>2</th>\n",
       "      <td>\\nRadisson Blu Hotel, Hamburg\\n</td>\n",
       "      <td>€ 97,82</td>\n",
       "    </tr>\n",
       "    <tr>\n",
       "      <th>3</th>\n",
       "      <td>\\nHyperion Hotel Hamburg\\n</td>\n",
       "      <td>€ 99,20</td>\n",
       "    </tr>\n",
       "    <tr>\n",
       "      <th>4</th>\n",
       "      <td>\\nCourtyard by Marriott Hamburg City\\n</td>\n",
       "      <td>€ 74,25</td>\n",
       "    </tr>\n",
       "    <tr>\n",
       "      <th>5</th>\n",
       "      <td>\\nCrowne Plaza Hamburg City Centre, an IHG Hot...</td>\n",
       "      <td>€ 89</td>\n",
       "    </tr>\n",
       "    <tr>\n",
       "      <th>6</th>\n",
       "      <td>\\nHoliday Inn - Hamburg - Berliner Tor, an IHG...</td>\n",
       "      <td>€ 79</td>\n",
       "    </tr>\n",
       "    <tr>\n",
       "      <th>7</th>\n",
       "      <td>\\nScandic Hamburg Emporio\\n</td>\n",
       "      <td>€ 159</td>\n",
       "    </tr>\n",
       "    <tr>\n",
       "      <th>8</th>\n",
       "      <td>\\nINNSiDE by Meliá Hamburg Hafen\\n</td>\n",
       "      <td>€ 79</td>\n",
       "    </tr>\n",
       "    <tr>\n",
       "      <th>9</th>\n",
       "      <td>\\nSuper 8 by Wyndham Hamburg Mitte\\n</td>\n",
       "      <td>€ 70</td>\n",
       "    </tr>\n",
       "  </tbody>\n",
       "</table>\n",
       "</div>"
      ],
      "text/plain": [
       "                                               Hotel     Price\n",
       "0          \\nHampton By Hilton Hamburg City Centre\\n   € 84,15\n",
       "1                                \\nBarceló Hamburg\\n  € 121,30\n",
       "2                    \\nRadisson Blu Hotel, Hamburg\\n   € 97,82\n",
       "3                         \\nHyperion Hotel Hamburg\\n   € 99,20\n",
       "4             \\nCourtyard by Marriott Hamburg City\\n   € 74,25\n",
       "5  \\nCrowne Plaza Hamburg City Centre, an IHG Hot...      € 89\n",
       "6  \\nHoliday Inn - Hamburg - Berliner Tor, an IHG...      € 79\n",
       "7                        \\nScandic Hamburg Emporio\\n     € 159\n",
       "8                 \\nINNSiDE by Meliá Hamburg Hafen\\n      € 79\n",
       "9               \\nSuper 8 by Wyndham Hamburg Mitte\\n      € 70"
      ]
     },
     "execution_count": 90,
     "metadata": {},
     "output_type": "execute_result"
    }
   ],
   "source": [
    "df = pd.DataFrame(rows)\n",
    "df"
   ]
  },
  {
   "cell_type": "code",
   "execution_count": 105,
   "id": "111ac396",
   "metadata": {},
   "outputs": [
    {
     "data": {
      "text/html": [
       "<div>\n",
       "<style scoped>\n",
       "    .dataframe tbody tr th:only-of-type {\n",
       "        vertical-align: middle;\n",
       "    }\n",
       "\n",
       "    .dataframe tbody tr th {\n",
       "        vertical-align: top;\n",
       "    }\n",
       "\n",
       "    .dataframe thead th {\n",
       "        text-align: right;\n",
       "    }\n",
       "</style>\n",
       "<table border=\"1\" class=\"dataframe\">\n",
       "  <thead>\n",
       "    <tr style=\"text-align: right;\">\n",
       "      <th></th>\n",
       "      <th>Hotel</th>\n",
       "      <th>Price</th>\n",
       "    </tr>\n",
       "  </thead>\n",
       "  <tbody>\n",
       "    <tr>\n",
       "      <th>0</th>\n",
       "      <td>\\nHampton By Hilton Hamburg City Centre\\n</td>\n",
       "      <td>€ 84,15</td>\n",
       "    </tr>\n",
       "    <tr>\n",
       "      <th>1</th>\n",
       "      <td>\\nBarceló Hamburg\\n</td>\n",
       "      <td>€ 121,30</td>\n",
       "    </tr>\n",
       "    <tr>\n",
       "      <th>2</th>\n",
       "      <td>\\nRadisson Blu Hotel, Hamburg\\n</td>\n",
       "      <td>€ 97,82</td>\n",
       "    </tr>\n",
       "    <tr>\n",
       "      <th>3</th>\n",
       "      <td>\\nHyperion Hotel Hamburg\\n</td>\n",
       "      <td>€ 99,20</td>\n",
       "    </tr>\n",
       "    <tr>\n",
       "      <th>4</th>\n",
       "      <td>\\nCourtyard by Marriott Hamburg City\\n</td>\n",
       "      <td>€ 74,25</td>\n",
       "    </tr>\n",
       "    <tr>\n",
       "      <th>5</th>\n",
       "      <td>\\nCrowne Plaza Hamburg City Centre, an IHG Hot...</td>\n",
       "      <td>€ 89</td>\n",
       "    </tr>\n",
       "    <tr>\n",
       "      <th>6</th>\n",
       "      <td>\\nHoliday Inn - Hamburg - Berliner Tor, an IHG...</td>\n",
       "      <td>€ 79</td>\n",
       "    </tr>\n",
       "    <tr>\n",
       "      <th>7</th>\n",
       "      <td>\\nScandic Hamburg Emporio\\n</td>\n",
       "      <td>€ 159</td>\n",
       "    </tr>\n",
       "    <tr>\n",
       "      <th>8</th>\n",
       "      <td>\\nINNSiDE by Meliá Hamburg Hafen\\n</td>\n",
       "      <td>€ 79</td>\n",
       "    </tr>\n",
       "    <tr>\n",
       "      <th>9</th>\n",
       "      <td>\\nSuper 8 by Wyndham Hamburg Mitte\\n</td>\n",
       "      <td>€ 70</td>\n",
       "    </tr>\n",
       "  </tbody>\n",
       "</table>\n",
       "</div>"
      ],
      "text/plain": [
       "                                               Hotel     Price\n",
       "0          \\nHampton By Hilton Hamburg City Centre\\n   € 84,15\n",
       "1                                \\nBarceló Hamburg\\n  € 121,30\n",
       "2                    \\nRadisson Blu Hotel, Hamburg\\n   € 97,82\n",
       "3                         \\nHyperion Hotel Hamburg\\n   € 99,20\n",
       "4             \\nCourtyard by Marriott Hamburg City\\n   € 74,25\n",
       "5  \\nCrowne Plaza Hamburg City Centre, an IHG Hot...      € 89\n",
       "6  \\nHoliday Inn - Hamburg - Berliner Tor, an IHG...      € 79\n",
       "7                        \\nScandic Hamburg Emporio\\n     € 159\n",
       "8                 \\nINNSiDE by Meliá Hamburg Hafen\\n      € 79\n",
       "9               \\nSuper 8 by Wyndham Hamburg Mitte\\n      € 70"
      ]
     },
     "execution_count": 105,
     "metadata": {},
     "output_type": "execute_result"
    }
   ],
   "source": [
    "df=df.replace(to_replace = '€', value ='')\n",
    "df"
   ]
  },
  {
   "cell_type": "code",
   "execution_count": 106,
   "id": "9fce3f64",
   "metadata": {},
   "outputs": [],
   "source": [
    "df.to_csv(\"hamburghotelprices.csv\")"
   ]
  }
 ],
 "metadata": {
  "kernelspec": {
   "display_name": "Python 3",
   "language": "python",
   "name": "python3"
  },
  "language_info": {
   "codemirror_mode": {
    "name": "ipython",
    "version": 3
   },
   "file_extension": ".py",
   "mimetype": "text/x-python",
   "name": "python",
   "nbconvert_exporter": "python",
   "pygments_lexer": "ipython3",
   "version": "3.8.10"
  }
 },
 "nbformat": 4,
 "nbformat_minor": 5
}
