{
 "cells": [
  {
   "cell_type": "code",
   "execution_count": 1,
   "id": "1a002e62",
   "metadata": {},
   "outputs": [],
   "source": [
    "from bs4 import BeautifulSoup\n",
    "import requests\n",
    "from urllib.parse import urlparse\n",
    "import json"
   ]
  },
  {
   "cell_type": "code",
   "execution_count": 2,
   "id": "7ab37762",
   "metadata": {},
   "outputs": [],
   "source": [
    "url = 'https://www.booking.com/searchresults.nl.html?label=gen173nr-1FCAEoggI46AdIM1gEaDuIAQGYARy4AQfIAQzYAQHoAQH4AQuIAgGoAgO4AuaDsocGwAIB0gIkN2UzYTE4ZmQtYTlhZC00NjY1LWFmMTctNzY1NDljMjkyMWJj2AIG4AIB&sid=e5cb477f66581f1895119ed9df6cb6b2&sb=1&sb_lp=1&src=index&src_elem=sb&error_url=https%3A%2F%2Fwww.booking.com%2Findex.nl.html%3Flabel%3Dgen173nr-1FCAEoggI46AdIM1gEaDuIAQGYARy4AQfIAQzYAQHoAQH4AQuIAgGoAgO4AuaDsocGwAIB0gIkN2UzYTE4ZmQtYTlhZC00NjY1LWFmMTctNzY1NDljMjkyMWJj2AIG4AIB%3Bsid%3De5cb477f66581f1895119ed9df6cb6b2%3Bsb_price_type%3Dtotal%26%3B&ss=Hamburg%2C+Hansestadt+Hamburg%2C+Duitsland&is_ski_area=&checkin_year=&checkin_month=&checkout_year=&checkout_month=&group_adults=2&group_children=0&no_rooms=1&b_h4u_keep_filters=&from_sf=1&search_pageview_id=100a7df32af6001a&ac_suggestion_list_length=5&ac_suggestion_theme_list_length=0&ac_position=0&ac_langcode=nl&ac_click_type=b&dest_id=-1785434&dest_type=city&iata=HAM&place_id_lat=53.549999&place_id_lon=10&search_pageview_id=100a7df32af6001a&search_selected=true&ss_raw=hamburg'"
   ]
  },
  {
   "cell_type": "code",
   "execution_count": 3,
   "id": "06dafe55",
   "metadata": {},
   "outputs": [],
   "source": [
    "airbnburl = 'https://www.airbnb.nl/s/Hamburg/homes?tab_id=home_tab&refinement_paths%5B%5D=%2Fhomes&flexible_trip_dates%5B%5D=august&flexible_trip_dates%5B%5D=july&flexible_trip_dates%5B%5D=september&flexible_trip_dates%5B%5D=october&flexible_trip_dates%5B%5D=november&flexible_trip_dates%5B%5D=december&flexible_trip_lengths%5B%5D=weekend_trip&date_picker_type=flexible_dates&place_id=ChIJuRMYfoNhsUcRoDrWe_I9JgQ&query=Hamburg&adults=2&source=structured_search_input_header&search_type=autocomplete_click'"
   ]
  },
  {
   "cell_type": "markdown",
   "id": "0fa5d4ef",
   "metadata": {},
   "source": [
    "# Parsing it (Soma's way)"
   ]
  },
  {
   "cell_type": "code",
   "execution_count": 6,
   "id": "1ef44513",
   "metadata": {},
   "outputs": [],
   "source": [
    "response = requests.get(url)\n",
    "doc = BeautifulSoup(response.text, 'html.parser')"
   ]
  },
  {
   "cell_type": "code",
   "execution_count": 64,
   "id": "d190c90e",
   "metadata": {},
   "outputs": [],
   "source": [
    "#doc"
   ]
  },
  {
   "cell_type": "code",
   "execution_count": 63,
   "id": "f491c9ef",
   "metadata": {},
   "outputs": [
    {
     "data": {
      "text/plain": [
       "[<span class=\"bui-card__title\" itemprop=\"name\">\n",
       " Hampton By Hilton Hamburg City Centre\n",
       " </span>,\n",
       " <span class=\"bui-card__title\" itemprop=\"name\">\n",
       " Barceló Hamburg\n",
       " </span>,\n",
       " <span class=\"bui-card__title\" itemprop=\"name\">\n",
       " Radisson Blu Hotel, Hamburg\n",
       " </span>,\n",
       " <span class=\"bui-card__title\" itemprop=\"name\">\n",
       " Hyperion Hotel Hamburg\n",
       " </span>,\n",
       " <span class=\"bui-card__title\" itemprop=\"name\">\n",
       " Crowne Plaza Hamburg City Centre, an IHG Hotel\n",
       " </span>,\n",
       " <span class=\"bui-card__title\" itemprop=\"name\">\n",
       " Holiday Inn - Hamburg - Berliner Tor, an IHG Hotel\n",
       " </span>,\n",
       " <span class=\"bui-card__title\" itemprop=\"name\">\n",
       " Courtyard by Marriott Hamburg City\n",
       " </span>,\n",
       " <span class=\"bui-card__title\" itemprop=\"name\">\n",
       " Super 8 by Wyndham Hamburg Mitte\n",
       " </span>,\n",
       " <span class=\"bui-card__title\" itemprop=\"name\">\n",
       " INNSiDE by Meliá Hamburg Hafen\n",
       " </span>,\n",
       " <span class=\"bui-card__title\" itemprop=\"name\">\n",
       " Holiday Inn Hamburg - City Nord, an IHG Hotel\n",
       " </span>]"
      ]
     },
     "execution_count": 63,
     "metadata": {},
     "output_type": "execute_result"
    }
   ],
   "source": [
    "doc.find_all('span', itemprop='name')"
   ]
  },
  {
   "cell_type": "code",
   "execution_count": 56,
   "id": "ced2856c",
   "metadata": {},
   "outputs": [
    {
     "data": {
      "text/plain": [
       "[<div class=\"bui-price-display__value bui-f-color-constructive\">€ 84,15</div>,\n",
       " <div class=\"bui-price-display__value bui-f-color-constructive\">€ 121,30</div>,\n",
       " <div class=\"bui-price-display__value bui-f-color-constructive\">€ 97,82</div>,\n",
       " <div class=\"bui-price-display__value bui-f-color-constructive\">€ 127,20</div>,\n",
       " <div class=\"bui-price-display__value bui-f-color-constructive\">€ 89</div>,\n",
       " <div class=\"bui-price-display__value bui-f-color-constructive\">€ 79</div>,\n",
       " <div class=\"bui-price-display__value bui-f-color-constructive\">€ 74,25</div>,\n",
       " <div class=\"bui-price-display__value bui-f-color-constructive\">€ 67</div>,\n",
       " <div class=\"bui-price-display__value bui-f-color-constructive\">€ 79</div>,\n",
       " <div class=\"bui-price-display__value bui-f-color-constructive\">€ 84</div>]"
      ]
     },
     "execution_count": 56,
     "metadata": {},
     "output_type": "execute_result"
    }
   ],
   "source": [
    "doc.find_all(class_='bui-price-display__value bui-f-color-constructive')"
   ]
  },
  {
   "cell_type": "code",
   "execution_count": null,
   "id": "a19885ae",
   "metadata": {},
   "outputs": [],
   "source": []
  },
  {
   "cell_type": "code",
   "execution_count": null,
   "id": "19d3c1a0",
   "metadata": {},
   "outputs": [],
   "source": []
  }
 ],
 "metadata": {
  "kernelspec": {
   "display_name": "Python 3",
   "language": "python",
   "name": "python3"
  },
  "language_info": {
   "codemirror_mode": {
    "name": "ipython",
    "version": 3
   },
   "file_extension": ".py",
   "mimetype": "text/x-python",
   "name": "python",
   "nbconvert_exporter": "python",
   "pygments_lexer": "ipython3",
   "version": "3.8.10"
  }
 },
 "nbformat": 4,
 "nbformat_minor": 5
}
