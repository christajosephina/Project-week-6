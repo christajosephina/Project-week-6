{
 "cells": [
  {
   "cell_type": "code",
   "execution_count": 20,
   "id": "09d87c79",
   "metadata": {},
   "outputs": [],
   "source": [
    "#pip install selenium\n",
    "#!pip install webdriver_manager"
   ]
  },
  {
   "cell_type": "code",
   "execution_count": 49,
   "id": "d5002d79",
   "metadata": {},
   "outputs": [],
   "source": [
    "import selenium"
   ]
  },
  {
   "cell_type": "code",
   "execution_count": 50,
   "id": "e4776b02",
   "metadata": {},
   "outputs": [],
   "source": [
    "#pip install selenium"
   ]
  },
  {
   "cell_type": "code",
   "execution_count": 51,
   "id": "540815ec",
   "metadata": {},
   "outputs": [],
   "source": [
    "from selenium import webdriver\n",
    "from selenium.webdriver.common.keys import Keys\n",
    "import pandas as pd"
   ]
  },
  {
   "cell_type": "code",
   "execution_count": 52,
   "id": "d1f0002d",
   "metadata": {},
   "outputs": [
    {
     "name": "stderr",
     "output_type": "stream",
     "text": [
      "\n",
      "\n",
      "====== WebDriver manager ======\n",
      "Current google-chrome version is 92.0.4515\n",
      "Get LATEST driver version for 92.0.4515\n",
      "Driver [/Users/christakoeyvoets/.wdm/drivers/chromedriver/mac64/92.0.4515.107/chromedriver] found in cache\n"
     ]
    }
   ],
   "source": [
    "from selenium.webdriver.chrome.webdriver import WebDriver\n",
    "from selenium import webdriver\n",
    "from webdriver_manager.chrome import ChromeDriverManager\n",
    "\n",
    "driver = webdriver.Chrome(ChromeDriverManager().install())"
   ]
  },
  {
   "cell_type": "code",
   "execution_count": 53,
   "id": "07f041f2",
   "metadata": {},
   "outputs": [],
   "source": [
    "from bs4 import BeautifulSoup\n",
    "import requests\n",
    "from urllib.parse import urlparse\n",
    "import json\n",
    "import pandas as pd\n",
    "from datetime import date\n",
    "import datetime as datetime"
   ]
  },
  {
   "cell_type": "code",
   "execution_count": 54,
   "id": "155170d3",
   "metadata": {},
   "outputs": [],
   "source": [
    "today = date.today() \n",
    "year = today.year\n",
    "day = today.day\n",
    "month = today.month"
   ]
  },
  {
   "cell_type": "code",
   "execution_count": 55,
   "id": "d88d20c4",
   "metadata": {},
   "outputs": [],
   "source": [
    "tomorrow = date.today() + datetime.timedelta(days=1)\n",
    "yeartm = tomorrow.year\n",
    "daytm = tomorrow.day\n",
    "monthtm = tomorrow.month"
   ]
  },
  {
   "cell_type": "code",
   "execution_count": 56,
   "id": "9c4d1f66",
   "metadata": {},
   "outputs": [],
   "source": [
    "year = str(year)\n",
    "day = str(day)\n",
    "month = str(month)\n",
    "yeartm = str(yeartm)\n",
    "daytm = str(daytm)\n",
    "monthtm = str(monthtm)"
   ]
  },
  {
   "cell_type": "code",
   "execution_count": 57,
   "id": "900e44e9",
   "metadata": {},
   "outputs": [],
   "source": [
    "urltime = \"https://www.booking.com/searchresults.nl.html?aid=376373&label=Boekings-nl-Nmlwg4ZjCgLYTSLOHsJrjgS267724993818%3Apl%3Ata%3Ap1%3Ap22.563.000%3Aac%3Aap%3Aneg%3Afi%3Atikwd-65526620%3Alp9043480%3Ali%3Adec%3Adm%3Appccp%3DUmFuZG9tSVYkc2RlIyh9YfpWGnRw6lOGtdKYocc2a8Y&sid=552e2254bbf42007c1fa7f86a7c26c19&sb=1&sb_lp=1&src=index&src_elem=sb&error_url=https%3A%2F%2Fwww.booking.com%2Findex.nl.html%3Faid%3D376373%3Blabel%3DBoekings-nl-Nmlwg4ZjCgLYTSLOHsJrjgS267724993818%253Apl%253Ata%253Ap1%253Ap22.563.000%253Aac%253Aap%253Aneg%253Afi%253Atikwd-65526620%253Alp9043480%253Ali%253Adec%253Adm%253Appccp%253DUmFuZG9tSVYkc2RlIyh9YfpWGnRw6lOGtdKYocc2a8Y%3Bsid%3D552e2254bbf42007c1fa7f86a7c26c19%3Bsb_price_type%3Dtotal%26%3B&ss=Hamburg&is_ski_area=0&ssne=Hamburg&ssne_untouched=Hamburg&dest_id=-1785434&dest_type=city&checkin_year=\" + year + \"&checkin_month=\" + month + \"&checkin_monthday=\" + day + \"&checkout_year=\" + yeartm + \"&checkout_month=\" + monthtm + \"&checkout_monthday=\" + daytm + \"&group_adults=1&group_children=0&no_rooms=1&b_h4u_keep_filters=&from_sf=1\"\n"
   ]
  },
  {
   "cell_type": "code",
   "execution_count": 58,
   "id": "db77cc38",
   "metadata": {},
   "outputs": [],
   "source": [
    "driver.get(urltime)"
   ]
  },
  {
   "cell_type": "code",
   "execution_count": 59,
   "id": "e8367f5f",
   "metadata": {},
   "outputs": [],
   "source": [
    "html = driver.page_source\n",
    "soup = BeautifulSoup(html, 'html.parser')"
   ]
  },
  {
   "cell_type": "code",
   "execution_count": 60,
   "id": "085b05ee",
   "metadata": {},
   "outputs": [],
   "source": [
    "names = []\n",
    "prices = []"
   ]
  },
  {
   "cell_type": "code",
   "execution_count": 61,
   "id": "41e42ce9",
   "metadata": {},
   "outputs": [],
   "source": [
    "for item in soup.findAll('span', {'class': 'sr-hotel__name'}):\n",
    "        names.append(item.get_text(strip=True))"
   ]
  },
  {
   "cell_type": "code",
   "execution_count": 62,
   "id": "a2a5dfcf",
   "metadata": {},
   "outputs": [],
   "source": [
    "for item in soup.findAll('div', {'class':'bui-price-display__value prco-inline-block-maker-helper'}):\n",
    "    prices.append(item.get_text(strip=True))"
   ]
  },
  {
   "cell_type": "code",
   "execution_count": 63,
   "id": "21c6ce77",
   "metadata": {},
   "outputs": [
    {
     "name": "stdout",
     "output_type": "stream",
     "text": [
      "---\n",
      "NewLivingHome Residenzhotel Hamburg\n",
      "€ 107\n",
      "---\n",
      "Holiday Inn - Hamburg - Berliner Tor, an IHG Hotel\n",
      "€ 169\n",
      "---\n",
      "Apartment-Hotel Hamburg Mitte\n",
      "€ 83\n",
      "---\n",
      "Courtyard by Marriott Hamburg City\n",
      "€ 129\n",
      "---\n",
      "NH Collection Hamburg City\n",
      "€ 154\n",
      "---\n",
      "Le Méridien Hamburg\n",
      "€ 224\n",
      "---\n",
      "Ibis Hamburg City\n",
      "€ 88\n",
      "---\n",
      "Hamburg Marriott Hotel\n",
      "€ 189\n",
      "---\n",
      "Generator Hamburg\n",
      "€ 16\n",
      "---\n",
      "Crowne Plaza Hamburg City Centre, an IHG Hotel\n",
      "€ 139\n",
      "---\n",
      "Courtyard by Marriott Hamburg Airport\n",
      "€ 109\n",
      "---\n",
      "Super 8 by Wyndham Hamburg Mitte\n",
      "€ 122\n",
      "---\n",
      "prizeotel Hamburg-City\n",
      "€ 104\n",
      "---\n",
      "prizeotel Hamburg-St.Pauli\n",
      "€ 89\n",
      "---\n",
      "Best Western Plaza Hotel Hamburg\n",
      "€ 96\n",
      "---\n",
      "ibis Hotel Hamburg Airport\n",
      "€ 67\n",
      "---\n",
      "Holiday Inn - Hamburg - HafenCity, an IHG Hotel\n",
      "€ 124\n",
      "---\n",
      "NH Hamburg Altona\n",
      "€ 107\n",
      "---\n",
      "NH Hamburg Horner Rennbahn\n",
      "€ 92\n",
      "---\n",
      "ARCOTEL Onyx Hamburg\n",
      "€ 117\n",
      "---\n",
      "ibis budget Hamburg Altona\n",
      "€ 56\n",
      "---\n",
      "Leonardo Hotel Hamburg Airport\n",
      "€ 84\n",
      "---\n",
      "Leonardo Hotel Hamburg Stillhorn\n",
      "€ 84\n",
      "---\n",
      "Ibis budget Hamburg City Ost\n",
      "€ 56\n",
      "---\n",
      "INNSiDE by Meliá Hamburg Hafen\n",
      "€ 145\n"
     ]
    }
   ],
   "source": [
    "for price, name in zip(prices, names):\n",
    "    print('---')\n",
    "    print(name)\n",
    "    print(price)"
   ]
  },
  {
   "cell_type": "code",
   "execution_count": 64,
   "id": "8900b38e",
   "metadata": {},
   "outputs": [
    {
     "name": "stdout",
     "output_type": "stream",
     "text": [
      "---\n",
      "{'Hotel': 'NewLivingHome Residenzhotel Hamburg', 'Price': '€\\xa0107'}\n",
      "---\n",
      "{'Hotel': 'Holiday Inn - Hamburg - Berliner Tor, an IHG Hotel', 'Price': '€\\xa0169'}\n",
      "---\n",
      "{'Hotel': 'Apartment-Hotel Hamburg Mitte', 'Price': '€\\xa083'}\n",
      "---\n",
      "{'Hotel': 'Courtyard by Marriott Hamburg City', 'Price': '€\\xa0129'}\n",
      "---\n",
      "{'Hotel': 'NH Collection Hamburg City', 'Price': '€\\xa0154'}\n",
      "---\n",
      "{'Hotel': 'Le Méridien Hamburg', 'Price': '€\\xa0224'}\n",
      "---\n",
      "{'Hotel': 'Ibis Hamburg City', 'Price': '€\\xa088'}\n",
      "---\n",
      "{'Hotel': 'Hamburg Marriott Hotel', 'Price': '€\\xa0189'}\n",
      "---\n",
      "{'Hotel': 'Generator Hamburg', 'Price': '€\\xa016'}\n",
      "---\n",
      "{'Hotel': 'Crowne Plaza Hamburg City Centre, an IHG Hotel', 'Price': '€\\xa0139'}\n",
      "---\n",
      "{'Hotel': 'Courtyard by Marriott Hamburg Airport', 'Price': '€\\xa0109'}\n",
      "---\n",
      "{'Hotel': 'Super 8 by Wyndham Hamburg Mitte', 'Price': '€\\xa0122'}\n",
      "---\n",
      "{'Hotel': 'prizeotel Hamburg-City', 'Price': '€\\xa0104'}\n",
      "---\n",
      "{'Hotel': 'prizeotel Hamburg-St.Pauli', 'Price': '€\\xa089'}\n",
      "---\n",
      "{'Hotel': 'Best Western Plaza Hotel Hamburg', 'Price': '€\\xa096'}\n",
      "---\n",
      "{'Hotel': 'ibis Hotel Hamburg Airport', 'Price': '€\\xa067'}\n",
      "---\n",
      "{'Hotel': 'Holiday Inn - Hamburg - HafenCity, an IHG Hotel', 'Price': '€\\xa0124'}\n",
      "---\n",
      "{'Hotel': 'NH Hamburg Altona', 'Price': '€\\xa0107'}\n",
      "---\n",
      "{'Hotel': 'NH Hamburg Horner Rennbahn', 'Price': '€\\xa092'}\n",
      "---\n",
      "{'Hotel': 'ARCOTEL Onyx Hamburg', 'Price': '€\\xa0117'}\n",
      "---\n",
      "{'Hotel': 'ibis budget Hamburg Altona', 'Price': '€\\xa056'}\n",
      "---\n",
      "{'Hotel': 'Leonardo Hotel Hamburg Airport', 'Price': '€\\xa084'}\n",
      "---\n",
      "{'Hotel': 'Leonardo Hotel Hamburg Stillhorn', 'Price': '€\\xa084'}\n",
      "---\n",
      "{'Hotel': 'Ibis budget Hamburg City Ost', 'Price': '€\\xa056'}\n",
      "---\n",
      "{'Hotel': 'INNSiDE by Meliá Hamburg Hafen', 'Price': '€\\xa0145'}\n"
     ]
    }
   ],
   "source": [
    "rows = []\n",
    "\n",
    "for price, name in zip(prices, names):\n",
    "    row = {}\n",
    "    print('---')\n",
    "    #print(name.text)\n",
    "    #print(price.text)\n",
    "    row['Hotel'] = name\n",
    "    row['Price'] = price\n",
    "    print(row)\n",
    "    rows.append(row)"
   ]
  },
  {
   "cell_type": "code",
   "execution_count": 65,
   "id": "851cb4f4",
   "metadata": {},
   "outputs": [
    {
     "data": {
      "text/html": [
       "<div>\n",
       "<style scoped>\n",
       "    .dataframe tbody tr th:only-of-type {\n",
       "        vertical-align: middle;\n",
       "    }\n",
       "\n",
       "    .dataframe tbody tr th {\n",
       "        vertical-align: top;\n",
       "    }\n",
       "\n",
       "    .dataframe thead th {\n",
       "        text-align: right;\n",
       "    }\n",
       "</style>\n",
       "<table border=\"1\" class=\"dataframe\">\n",
       "  <thead>\n",
       "    <tr style=\"text-align: right;\">\n",
       "      <th></th>\n",
       "      <th>Hotel</th>\n",
       "      <th>Price</th>\n",
       "    </tr>\n",
       "  </thead>\n",
       "  <tbody>\n",
       "    <tr>\n",
       "      <th>0</th>\n",
       "      <td>NewLivingHome Residenzhotel Hamburg</td>\n",
       "      <td>€ 107</td>\n",
       "    </tr>\n",
       "    <tr>\n",
       "      <th>1</th>\n",
       "      <td>Holiday Inn - Hamburg - Berliner Tor, an IHG H...</td>\n",
       "      <td>€ 169</td>\n",
       "    </tr>\n",
       "    <tr>\n",
       "      <th>2</th>\n",
       "      <td>Apartment-Hotel Hamburg Mitte</td>\n",
       "      <td>€ 83</td>\n",
       "    </tr>\n",
       "    <tr>\n",
       "      <th>3</th>\n",
       "      <td>Courtyard by Marriott Hamburg City</td>\n",
       "      <td>€ 129</td>\n",
       "    </tr>\n",
       "    <tr>\n",
       "      <th>4</th>\n",
       "      <td>NH Collection Hamburg City</td>\n",
       "      <td>€ 154</td>\n",
       "    </tr>\n",
       "    <tr>\n",
       "      <th>5</th>\n",
       "      <td>Le Méridien Hamburg</td>\n",
       "      <td>€ 224</td>\n",
       "    </tr>\n",
       "    <tr>\n",
       "      <th>6</th>\n",
       "      <td>Ibis Hamburg City</td>\n",
       "      <td>€ 88</td>\n",
       "    </tr>\n",
       "    <tr>\n",
       "      <th>7</th>\n",
       "      <td>Hamburg Marriott Hotel</td>\n",
       "      <td>€ 189</td>\n",
       "    </tr>\n",
       "    <tr>\n",
       "      <th>8</th>\n",
       "      <td>Generator Hamburg</td>\n",
       "      <td>€ 16</td>\n",
       "    </tr>\n",
       "    <tr>\n",
       "      <th>9</th>\n",
       "      <td>Crowne Plaza Hamburg City Centre, an IHG Hotel</td>\n",
       "      <td>€ 139</td>\n",
       "    </tr>\n",
       "    <tr>\n",
       "      <th>10</th>\n",
       "      <td>Courtyard by Marriott Hamburg Airport</td>\n",
       "      <td>€ 109</td>\n",
       "    </tr>\n",
       "    <tr>\n",
       "      <th>11</th>\n",
       "      <td>Super 8 by Wyndham Hamburg Mitte</td>\n",
       "      <td>€ 122</td>\n",
       "    </tr>\n",
       "    <tr>\n",
       "      <th>12</th>\n",
       "      <td>prizeotel Hamburg-City</td>\n",
       "      <td>€ 104</td>\n",
       "    </tr>\n",
       "    <tr>\n",
       "      <th>13</th>\n",
       "      <td>prizeotel Hamburg-St.Pauli</td>\n",
       "      <td>€ 89</td>\n",
       "    </tr>\n",
       "    <tr>\n",
       "      <th>14</th>\n",
       "      <td>Best Western Plaza Hotel Hamburg</td>\n",
       "      <td>€ 96</td>\n",
       "    </tr>\n",
       "    <tr>\n",
       "      <th>15</th>\n",
       "      <td>ibis Hotel Hamburg Airport</td>\n",
       "      <td>€ 67</td>\n",
       "    </tr>\n",
       "    <tr>\n",
       "      <th>16</th>\n",
       "      <td>Holiday Inn - Hamburg - HafenCity, an IHG Hotel</td>\n",
       "      <td>€ 124</td>\n",
       "    </tr>\n",
       "    <tr>\n",
       "      <th>17</th>\n",
       "      <td>NH Hamburg Altona</td>\n",
       "      <td>€ 107</td>\n",
       "    </tr>\n",
       "    <tr>\n",
       "      <th>18</th>\n",
       "      <td>NH Hamburg Horner Rennbahn</td>\n",
       "      <td>€ 92</td>\n",
       "    </tr>\n",
       "    <tr>\n",
       "      <th>19</th>\n",
       "      <td>ARCOTEL Onyx Hamburg</td>\n",
       "      <td>€ 117</td>\n",
       "    </tr>\n",
       "    <tr>\n",
       "      <th>20</th>\n",
       "      <td>ibis budget Hamburg Altona</td>\n",
       "      <td>€ 56</td>\n",
       "    </tr>\n",
       "    <tr>\n",
       "      <th>21</th>\n",
       "      <td>Leonardo Hotel Hamburg Airport</td>\n",
       "      <td>€ 84</td>\n",
       "    </tr>\n",
       "    <tr>\n",
       "      <th>22</th>\n",
       "      <td>Leonardo Hotel Hamburg Stillhorn</td>\n",
       "      <td>€ 84</td>\n",
       "    </tr>\n",
       "    <tr>\n",
       "      <th>23</th>\n",
       "      <td>Ibis budget Hamburg City Ost</td>\n",
       "      <td>€ 56</td>\n",
       "    </tr>\n",
       "    <tr>\n",
       "      <th>24</th>\n",
       "      <td>INNSiDE by Meliá Hamburg Hafen</td>\n",
       "      <td>€ 145</td>\n",
       "    </tr>\n",
       "  </tbody>\n",
       "</table>\n",
       "</div>"
      ],
      "text/plain": [
       "                                                Hotel  Price\n",
       "0                 NewLivingHome Residenzhotel Hamburg  € 107\n",
       "1   Holiday Inn - Hamburg - Berliner Tor, an IHG H...  € 169\n",
       "2                       Apartment-Hotel Hamburg Mitte   € 83\n",
       "3                  Courtyard by Marriott Hamburg City  € 129\n",
       "4                          NH Collection Hamburg City  € 154\n",
       "5                                 Le Méridien Hamburg  € 224\n",
       "6                                   Ibis Hamburg City   € 88\n",
       "7                              Hamburg Marriott Hotel  € 189\n",
       "8                                   Generator Hamburg   € 16\n",
       "9      Crowne Plaza Hamburg City Centre, an IHG Hotel  € 139\n",
       "10              Courtyard by Marriott Hamburg Airport  € 109\n",
       "11                   Super 8 by Wyndham Hamburg Mitte  € 122\n",
       "12                             prizeotel Hamburg-City  € 104\n",
       "13                         prizeotel Hamburg-St.Pauli   € 89\n",
       "14                   Best Western Plaza Hotel Hamburg   € 96\n",
       "15                         ibis Hotel Hamburg Airport   € 67\n",
       "16    Holiday Inn - Hamburg - HafenCity, an IHG Hotel  € 124\n",
       "17                                  NH Hamburg Altona  € 107\n",
       "18                         NH Hamburg Horner Rennbahn   € 92\n",
       "19                               ARCOTEL Onyx Hamburg  € 117\n",
       "20                         ibis budget Hamburg Altona   € 56\n",
       "21                     Leonardo Hotel Hamburg Airport   € 84\n",
       "22                   Leonardo Hotel Hamburg Stillhorn   € 84\n",
       "23                       Ibis budget Hamburg City Ost   € 56\n",
       "24                     INNSiDE by Meliá Hamburg Hafen  € 145"
      ]
     },
     "execution_count": 65,
     "metadata": {},
     "output_type": "execute_result"
    }
   ],
   "source": [
    "df = pd.DataFrame(rows)\n",
    "df"
   ]
  },
  {
   "cell_type": "code",
   "execution_count": 66,
   "id": "28d67000",
   "metadata": {},
   "outputs": [],
   "source": [
    "df['Date']=today"
   ]
  },
  {
   "cell_type": "code",
   "execution_count": 67,
   "id": "f1abd7dd",
   "metadata": {},
   "outputs": [],
   "source": [
    "with open(\"hamburghotelprices.csv\", 'a') as f:\n",
    "    df.to_csv(f, header=f.tell()==0)"
   ]
  },
  {
   "cell_type": "code",
   "execution_count": null,
   "id": "3e536aea",
   "metadata": {},
   "outputs": [],
   "source": []
  }
 ],
 "metadata": {
  "kernelspec": {
   "display_name": "Python 3",
   "language": "python",
   "name": "python3"
  },
  "language_info": {
   "codemirror_mode": {
    "name": "ipython",
    "version": 3
   },
   "file_extension": ".py",
   "mimetype": "text/x-python",
   "name": "python",
   "nbconvert_exporter": "python",
   "pygments_lexer": "ipython3",
   "version": "3.8.10"
  }
 },
 "nbformat": 4,
 "nbformat_minor": 5
}
